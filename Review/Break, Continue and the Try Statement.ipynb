{
 "cells": [
  {
   "cell_type": "markdown",
   "id": "1017efec",
   "metadata": {},
   "source": [
    "try.... except... finally"
   ]
  },
  {
   "cell_type": "code",
   "execution_count": 5,
   "id": "e15e0df0",
   "metadata": {},
   "outputs": [
    {
     "name": "stdout",
     "output_type": "stream",
     "text": [
      "division by 0\n",
      "this always executes\n"
     ]
    }
   ],
   "source": [
    "a = 10\n",
    "b = 0\n",
    "\n",
    "try:\n",
    "    a/b\n",
    "except ZeroDivisionError:\n",
    "    print('division by 0')\n",
    "finally:\n",
    "    print('this always executes')"
   ]
  },
  {
   "cell_type": "code",
   "execution_count": 7,
   "id": "1dd7221e",
   "metadata": {},
   "outputs": [
    {
     "name": "stdout",
     "output_type": "stream",
     "text": [
      "---------\n",
      "1, 1 - always executes\n",
      "1, 1 - main loop\n",
      "---------\n",
      "2, 0 - division by 0\n",
      "2, 0 - always executes\n",
      "---------\n",
      "3, -1 - always executes\n",
      "3, -1 - main loop\n",
      "---------\n",
      "4, -2 - always executes\n",
      "4, -2 - main loop\n"
     ]
    }
   ],
   "source": [
    "a = 0\n",
    "b = 2\n",
    "\n",
    "while a < 4:\n",
    "    print('-'*9)\n",
    "    a += 1\n",
    "    b -= 1\n",
    "    try:\n",
    "        a/b\n",
    "    except ZeroDivisionError:\n",
    "        print(f'{a}, {b} - division by 0')\n",
    "        continue\n",
    "    finally:\n",
    "        print(f'{a}, {b} - always executes')\n",
    "    \n",
    "    print(f'{a}, {b} - main loop')\n"
   ]
  },
  {
   "cell_type": "code",
   "execution_count": 8,
   "id": "c126e680",
   "metadata": {},
   "outputs": [
    {
     "name": "stdout",
     "output_type": "stream",
     "text": [
      "---------\n",
      "1, 1 - always executes\n",
      "1, 1 - main loop\n",
      "---------\n",
      "2, 0 - division by 0\n",
      "2, 0 - always executes\n"
     ]
    }
   ],
   "source": [
    "a = 0\n",
    "b = 2\n",
    "\n",
    "while a < 4:\n",
    "    print('-'*9)\n",
    "    a += 1\n",
    "    b -= 1\n",
    "    try:\n",
    "        a/b\n",
    "    except ZeroDivisionError:\n",
    "        print(f'{a}, {b} - division by 0')\n",
    "        break\n",
    "    finally:\n",
    "        print(f'{a}, {b} - always executes')\n",
    "    \n",
    "    print(f'{a}, {b} - main loop')"
   ]
  },
  {
   "cell_type": "code",
   "execution_count": 11,
   "id": "c4dd348e",
   "metadata": {},
   "outputs": [
    {
     "name": "stdout",
     "output_type": "stream",
     "text": [
      "---------\n",
      "1, 1 - always executes\n",
      "1, 1 - main loop\n",
      "---------\n",
      "2, 0 - division by 0\n",
      "2, 0 - always executes\n"
     ]
    }
   ],
   "source": [
    "a = 0\n",
    "b = 2\n",
    "\n",
    "while a < 4:\n",
    "    print('-'*9)\n",
    "    a += 1\n",
    "    b -= 1\n",
    "    try:\n",
    "        a/b\n",
    "    except ZeroDivisionError:\n",
    "        print(f'{a}, {b} - division by 0')\n",
    "        break\n",
    "    finally:\n",
    "        print(f'{a}, {b} - always executes')\n",
    "    \n",
    "    print(f'{a}, {b} - main loop')\n",
    "else:\n",
    "    print('Code executed without a zero divison error')"
   ]
  },
  {
   "cell_type": "code",
   "execution_count": null,
   "id": "adcf9ae9",
   "metadata": {},
   "outputs": [],
   "source": []
  },
  {
   "cell_type": "code",
   "execution_count": 12,
   "id": "cf21d6ec",
   "metadata": {},
   "outputs": [
    {
     "name": "stdout",
     "output_type": "stream",
     "text": [
      "---------\n",
      "1, 9 - always executes\n",
      "1, 9 - main loop\n",
      "---------\n",
      "2, 8 - always executes\n",
      "2, 8 - main loop\n",
      "---------\n",
      "3, 7 - always executes\n",
      "3, 7 - main loop\n",
      "---------\n",
      "4, 6 - always executes\n",
      "4, 6 - main loop\n",
      "Code executed without a zero divison error\n"
     ]
    }
   ],
   "source": [
    "a = 0\n",
    "b = 10\n",
    "\n",
    "while a < 4:\n",
    "    print('-'*9)\n",
    "    a += 1\n",
    "    b -= 1\n",
    "    try:\n",
    "        a/b\n",
    "    except ZeroDivisionError:\n",
    "        print(f'{a}, {b} - division by 0')\n",
    "        break\n",
    "    finally:\n",
    "        print(f'{a}, {b} - always executes')\n",
    "    \n",
    "    print(f'{a}, {b} - main loop')\n",
    "else:\n",
    "    print('Code executed without a zero divison error')"
   ]
  },
  {
   "cell_type": "code",
   "execution_count": null,
   "id": "89d5fdf3",
   "metadata": {},
   "outputs": [],
   "source": []
  }
 ],
 "metadata": {
  "kernelspec": {
   "display_name": "Python 3 (ipykernel)",
   "language": "python",
   "name": "python3"
  },
  "language_info": {
   "codemirror_mode": {
    "name": "ipython",
    "version": 3
   },
   "file_extension": ".py",
   "mimetype": "text/x-python",
   "name": "python",
   "nbconvert_exporter": "python",
   "pygments_lexer": "ipython3",
   "version": "3.9.6"
  }
 },
 "nbformat": 4,
 "nbformat_minor": 5
}
