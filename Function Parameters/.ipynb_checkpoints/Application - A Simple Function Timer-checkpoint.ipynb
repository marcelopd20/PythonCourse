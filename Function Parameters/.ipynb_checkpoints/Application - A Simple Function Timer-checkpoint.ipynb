{
 "cells": [
  {
   "cell_type": "markdown",
   "id": "cc780b3d",
   "metadata": {},
   "source": [
    "## A Simple Function Timer"
   ]
  },
  {
   "cell_type": "code",
   "execution_count": 14,
   "id": "6f8ccf2a",
   "metadata": {},
   "outputs": [],
   "source": [
    "import time"
   ]
  },
  {
   "cell_type": "code",
   "execution_count": 2,
   "id": "4af22811",
   "metadata": {},
   "outputs": [],
   "source": [
    "def time_it(fn, *args, **kwargs):\n",
    "    print(args, kwargs)"
   ]
  },
  {
   "cell_type": "code",
   "execution_count": 3,
   "id": "a9ec6f1c",
   "metadata": {},
   "outputs": [
    {
     "name": "stdout",
     "output_type": "stream",
     "text": [
      "(1, 2, 3) {'sep': ' - ', 'end': ' *** '}\n"
     ]
    }
   ],
   "source": [
    "time_it(print, 1, 2, 3, sep=' - ', end = ' *** ')"
   ]
  },
  {
   "cell_type": "code",
   "execution_count": 4,
   "id": "0875ce8a",
   "metadata": {},
   "outputs": [],
   "source": [
    "def time_it(fn, *args, **kwargs):\n",
    "    fn(args, kwargs)\n",
    "    "
   ]
  },
  {
   "cell_type": "code",
   "execution_count": 5,
   "id": "c5287f7c",
   "metadata": {},
   "outputs": [
    {
     "name": "stdout",
     "output_type": "stream",
     "text": [
      "(1, 2, 3) {'sep': ' - ', 'end': ' *** '}\n"
     ]
    }
   ],
   "source": [
    "time_it(print, 1, 2, 3, sep=' - ', end = ' *** ')"
   ]
  },
  {
   "cell_type": "code",
   "execution_count": 6,
   "id": "ce1b8ba5",
   "metadata": {},
   "outputs": [
    {
     "name": "stdout",
     "output_type": "stream",
     "text": [
      "(1, 2, 3) {'sep': ' - ', 'end': ' *** '}\n"
     ]
    }
   ],
   "source": [
    "print((1, 2, 3), {'sep': ' - ', 'end': ' *** '})"
   ]
  },
  {
   "cell_type": "code",
   "execution_count": 7,
   "id": "094301bf",
   "metadata": {},
   "outputs": [],
   "source": [
    "def time_it(fn, *args, **kwargs):\n",
    "    fn(*args, **kwargs)\n",
    "    "
   ]
  },
  {
   "cell_type": "code",
   "execution_count": 8,
   "id": "9136deaf",
   "metadata": {},
   "outputs": [
    {
     "name": "stdout",
     "output_type": "stream",
     "text": [
      "1 - 2 - 3 *** "
     ]
    }
   ],
   "source": [
    "time_it(print, 1, 2, 3, sep=' - ', end = ' *** ')"
   ]
  },
  {
   "cell_type": "code",
   "execution_count": 10,
   "id": "2abe5162",
   "metadata": {},
   "outputs": [],
   "source": [
    "def time_it(fn, *args,rep=1, **kwargs):\n",
    "    for i in range(rep):\n",
    "        fn(*args, **kwargs)\n",
    "    "
   ]
  },
  {
   "cell_type": "code",
   "execution_count": 11,
   "id": "7af460bb",
   "metadata": {},
   "outputs": [
    {
     "name": "stdout",
     "output_type": "stream",
     "text": [
      "1 - 2 - 3 ***\n",
      "1 - 2 - 3 ***\n",
      "1 - 2 - 3 ***\n",
      "1 - 2 - 3 ***\n",
      "1 - 2 - 3 ***\n"
     ]
    }
   ],
   "source": [
    "time_it(print, 1, 2, 3, sep=' - ', end = ' ***\\n', rep=5)"
   ]
  },
  {
   "cell_type": "code",
   "execution_count": 12,
   "id": "f9b6d31b",
   "metadata": {},
   "outputs": [],
   "source": [
    "def time_it(fn, *args,rep=1, **kwargs):\n",
    "    start = time.perf_counter()\n",
    "    for i in range(rep):\n",
    "        fn(*args, **kwargs)\n",
    "    end = time.perf_counter()\n",
    "    return (end - start) / rep"
   ]
  },
  {
   "cell_type": "code",
   "execution_count": 15,
   "id": "1c359233",
   "metadata": {},
   "outputs": [
    {
     "name": "stdout",
     "output_type": "stream",
     "text": [
      "1 - 2 - 3 ***\n",
      "1 - 2 - 3 ***\n",
      "1 - 2 - 3 ***\n",
      "1 - 2 - 3 ***\n",
      "1 - 2 - 3 ***\n"
     ]
    },
    {
     "data": {
      "text/plain": [
       "7.046000000627828e-05"
      ]
     },
     "execution_count": 15,
     "metadata": {},
     "output_type": "execute_result"
    }
   ],
   "source": [
    "time_it(print, 1, 2, 3, sep=' - ', end = ' ***\\n', rep=5)"
   ]
  },
  {
   "cell_type": "code",
   "execution_count": 19,
   "id": "f28f48ce",
   "metadata": {},
   "outputs": [],
   "source": [
    "def computer_powers_1(n, *, start = 1, end):\n",
    "    #using a for loop\n",
    "    results = []\n",
    "    for i in range(start, end):\n",
    "        results.append(n**i)\n",
    "    return results"
   ]
  },
  {
   "cell_type": "code",
   "execution_count": 20,
   "id": "dacd5256",
   "metadata": {},
   "outputs": [
    {
     "data": {
      "text/plain": [
       "[2, 4, 8, 16]"
      ]
     },
     "execution_count": 20,
     "metadata": {},
     "output_type": "execute_result"
    }
   ],
   "source": [
    "computer_power_1(2, end=5)"
   ]
  },
  {
   "cell_type": "code",
   "execution_count": 21,
   "id": "beaed7c6",
   "metadata": {},
   "outputs": [],
   "source": [
    "def computer_powers_2(n, *, start = 1, end):\n",
    "    #using a list of compreenhension\n",
    "    return [n**i for i in range(start, end)]"
   ]
  },
  {
   "cell_type": "code",
   "execution_count": 25,
   "id": "05760e14",
   "metadata": {},
   "outputs": [
    {
     "data": {
      "text/plain": [
       "[2, 4, 8, 16]"
      ]
     },
     "execution_count": 25,
     "metadata": {},
     "output_type": "execute_result"
    }
   ],
   "source": [
    "computer_powers_2(2, end=5)"
   ]
  },
  {
   "cell_type": "code",
   "execution_count": 23,
   "id": "527e9c65",
   "metadata": {},
   "outputs": [],
   "source": [
    "def computer_powers_3(n, *, start = 1, end):\n",
    "    #% using generators expression\n",
    "    return (n**i for i in range(start, end))"
   ]
  },
  {
   "cell_type": "code",
   "execution_count": 27,
   "id": "916d043e",
   "metadata": {},
   "outputs": [
    {
     "data": {
      "text/plain": [
       "<generator object computer_powers_3.<locals>.<genexpr> at 0x000001D2DA9FAC80>"
      ]
     },
     "execution_count": 27,
     "metadata": {},
     "output_type": "execute_result"
    }
   ],
   "source": [
    "computer_powers_3(2, end=5)"
   ]
  },
  {
   "cell_type": "code",
   "execution_count": 28,
   "id": "341210a4",
   "metadata": {},
   "outputs": [
    {
     "data": {
      "text/plain": [
       "[2, 4, 8, 16]"
      ]
     },
     "execution_count": 28,
     "metadata": {},
     "output_type": "execute_result"
    }
   ],
   "source": [
    "list(computer_powers_3(2, end=5))"
   ]
  },
  {
   "cell_type": "code",
   "execution_count": 30,
   "id": "0b16beb5",
   "metadata": {},
   "outputs": [
    {
     "data": {
      "text/plain": [
       "0.9392025399999966"
      ]
     },
     "execution_count": 30,
     "metadata": {},
     "output_type": "execute_result"
    }
   ],
   "source": [
    "time_it(computer_powers_1, 2, start=0, end=20000, rep=5)"
   ]
  },
  {
   "cell_type": "code",
   "execution_count": 31,
   "id": "b50c3b46",
   "metadata": {},
   "outputs": [
    {
     "data": {
      "text/plain": [
       "0.5191788999999971"
      ]
     },
     "execution_count": 31,
     "metadata": {},
     "output_type": "execute_result"
    }
   ],
   "source": [
    "time_it(computer_powers_2, 2, start=0, end=20000, rep=5)"
   ]
  },
  {
   "cell_type": "code",
   "execution_count": 32,
   "id": "d134328b",
   "metadata": {},
   "outputs": [
    {
     "data": {
      "text/plain": [
       "3.2999999802996172e-06"
      ]
     },
     "execution_count": 32,
     "metadata": {},
     "output_type": "execute_result"
    }
   ],
   "source": [
    "time_it(computer_powers_3, 2, start=0, end=20000, rep=5)"
   ]
  },
  {
   "cell_type": "code",
   "execution_count": 33,
   "id": "c5f25f3e",
   "metadata": {},
   "outputs": [],
   "source": [
    "def time_it(fn, *args,rep=1, **kwargs):\n",
    "    print(args, rep, kwargs)"
   ]
  },
  {
   "cell_type": "code",
   "execution_count": 34,
   "id": "b9f44d12",
   "metadata": {},
   "outputs": [
    {
     "name": "stdout",
     "output_type": "stream",
     "text": [
      "() 5 {'n': 1, 'start': 0, 'end': 20000}\n"
     ]
    }
   ],
   "source": [
    "time_it(print, n=1, start = 0, end =20000, rep=5)"
   ]
  },
  {
   "cell_type": "code",
   "execution_count": 35,
   "id": "dcdbb4a7",
   "metadata": {},
   "outputs": [],
   "source": [
    "def time_it(fn, *args,rep=1, **kwargs):\n",
    "    start = time.perf_counter()\n",
    "    for i in range(rep):\n",
    "        fn(*args, **kwargs)\n",
    "    end = time.perf_counter()\n",
    "    return (end - start) / rep"
   ]
  },
  {
   "cell_type": "code",
   "execution_count": 36,
   "id": "13c7ca59",
   "metadata": {},
   "outputs": [
    {
     "data": {
      "text/plain": [
       "3.1599999601894526e-06"
      ]
     },
     "execution_count": 36,
     "metadata": {},
     "output_type": "execute_result"
    }
   ],
   "source": [
    "time_it(computer_powers_3, 2, start=0, end=20000, rep=5)"
   ]
  },
  {
   "cell_type": "code",
   "execution_count": 38,
   "id": "a079ff95",
   "metadata": {},
   "outputs": [],
   "source": [
    "a = (2**i for i in range(5))"
   ]
  },
  {
   "cell_type": "code",
   "execution_count": 39,
   "id": "61c692d9",
   "metadata": {},
   "outputs": [
    {
     "data": {
      "text/plain": [
       "<generator object <genexpr> at 0x000001D2DABD0430>"
      ]
     },
     "execution_count": 39,
     "metadata": {},
     "output_type": "execute_result"
    }
   ],
   "source": [
    "a"
   ]
  },
  {
   "cell_type": "code",
   "execution_count": 40,
   "id": "0f9533a6",
   "metadata": {},
   "outputs": [
    {
     "data": {
      "text/plain": [
       "[1, 2, 4, 8, 16]"
      ]
     },
     "execution_count": 40,
     "metadata": {},
     "output_type": "execute_result"
    }
   ],
   "source": [
    "list(a)"
   ]
  },
  {
   "cell_type": "code",
   "execution_count": 42,
   "id": "6655d893",
   "metadata": {},
   "outputs": [],
   "source": [
    "def computer_powers_3(n, *, start = 1, end):\n",
    "    #% using generators expression\n",
    "    return list(n**i for i in range(start, end))"
   ]
  },
  {
   "cell_type": "code",
   "execution_count": 43,
   "id": "c7242d1d",
   "metadata": {},
   "outputs": [
    {
     "data": {
      "text/plain": [
       "0.4851469399999587"
      ]
     },
     "execution_count": 43,
     "metadata": {},
     "output_type": "execute_result"
    }
   ],
   "source": [
    "time_it(computer_powers_3, 2, start=0, end=20000, rep=5)"
   ]
  }
 ],
 "metadata": {
  "kernelspec": {
   "display_name": "Python 3 (ipykernel)",
   "language": "python",
   "name": "python3"
  },
  "language_info": {
   "codemirror_mode": {
    "name": "ipython",
    "version": 3
   },
   "file_extension": ".py",
   "mimetype": "text/x-python",
   "name": "python",
   "nbconvert_exporter": "python",
   "pygments_lexer": "ipython3",
   "version": "3.9.6"
  }
 },
 "nbformat": 4,
 "nbformat_minor": 5
}
