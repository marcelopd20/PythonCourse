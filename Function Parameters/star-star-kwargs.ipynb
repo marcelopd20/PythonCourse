{
 "cells": [
  {
   "cell_type": "code",
   "execution_count": 1,
   "id": "323367ea",
   "metadata": {},
   "outputs": [],
   "source": [
    "def func(*, d, **kwargs):\n",
    "    print(d, kwargs)"
   ]
  },
  {
   "cell_type": "code",
   "execution_count": 3,
   "id": "b68ad288",
   "metadata": {},
   "outputs": [
    {
     "name": "stdout",
     "output_type": "stream",
     "text": [
      "1 {'a': 1, 'b': 2}\n"
     ]
    }
   ],
   "source": [
    "func(d=1, a=1, b=2)"
   ]
  },
  {
   "cell_type": "code",
   "execution_count": 4,
   "id": "d3aa48e0",
   "metadata": {},
   "outputs": [],
   "source": [
    "def func(**kwargs):\n",
    "    print(kwargs)"
   ]
  },
  {
   "cell_type": "code",
   "execution_count": 5,
   "id": "9831ecaa",
   "metadata": {},
   "outputs": [
    {
     "name": "stdout",
     "output_type": "stream",
     "text": [
      "{'a': 2, 'b': 3, 'd': 4}\n"
     ]
    }
   ],
   "source": [
    "func(a=2, b=3, d=4)"
   ]
  },
  {
   "cell_type": "code",
   "execution_count": 7,
   "id": "2d571677",
   "metadata": {},
   "outputs": [],
   "source": [
    "def func(*args, **kwargs):\n",
    "    print(args, kwargs)"
   ]
  },
  {
   "cell_type": "code",
   "execution_count": 9,
   "id": "33f81f73",
   "metadata": {},
   "outputs": [
    {
     "name": "stdout",
     "output_type": "stream",
     "text": [
      "(1, 2, 3) {'a': 45, 'b': 343, 'c': 321}\n"
     ]
    }
   ],
   "source": [
    "func(1, 2, 3, a=45, b=343, c=321)"
   ]
  },
  {
   "cell_type": "code",
   "execution_count": 12,
   "id": "1e9dc2a4",
   "metadata": {},
   "outputs": [
    {
     "ename": "SyntaxError",
     "evalue": "named arguments must follow bare * (678502207.py, line 1)",
     "output_type": "error",
     "traceback": [
      "\u001b[1;36m  Input \u001b[1;32mIn [12]\u001b[1;36m\u001b[0m\n\u001b[1;33m    def func(a, b, *, **kwargs):\u001b[0m\n\u001b[1;37m                      ^\u001b[0m\n\u001b[1;31mSyntaxError\u001b[0m\u001b[1;31m:\u001b[0m named arguments must follow bare *\n"
     ]
    }
   ],
   "source": [
    "def func(a, b, *, **kwargs):\n",
    "    print(a)\n",
    "    print(b)\n",
    "    print(kwargs)"
   ]
  },
  {
   "cell_type": "code",
   "execution_count": 15,
   "id": "b292bf53",
   "metadata": {},
   "outputs": [],
   "source": [
    "def func(a, b, *, d, **kwargs):\n",
    "    print(a)\n",
    "    print(b)\n",
    "    print(kwargs)\n",
    "    print(d)"
   ]
  },
  {
   "cell_type": "code",
   "execution_count": 16,
   "id": "88203a26",
   "metadata": {},
   "outputs": [
    {
     "name": "stdout",
     "output_type": "stream",
     "text": [
      "1\n",
      "2\n",
      "{'x': 100, 'y': 200}\n",
      "200\n"
     ]
    }
   ],
   "source": [
    "func(1, 2, x=100, y=200, d=200)"
   ]
  },
  {
   "cell_type": "code",
   "execution_count": 17,
   "id": "1ef0b007",
   "metadata": {},
   "outputs": [],
   "source": [
    "def func(a, b, **kwargs):\n",
    "    print(a)\n",
    "    print(b)\n",
    "    print(kwargs)"
   ]
  },
  {
   "cell_type": "code",
   "execution_count": 18,
   "id": "cf8955d9",
   "metadata": {},
   "outputs": [
    {
     "name": "stdout",
     "output_type": "stream",
     "text": [
      "1\n",
      "2\n",
      "{'x': 100, 'y': 200}\n"
     ]
    }
   ],
   "source": [
    "func(1, 2, x=100, y=200)"
   ]
  },
  {
   "cell_type": "code",
   "execution_count": 14,
   "id": "989993f7",
   "metadata": {},
   "outputs": [
    {
     "name": "stdout",
     "output_type": "stream",
     "text": [
      "1\n",
      "2\n",
      "{'x': 100, 'y': 200}\n"
     ]
    }
   ],
   "source": [
    "func(1, 2, x=100, y=200, d=200)"
   ]
  }
 ],
 "metadata": {
  "kernelspec": {
   "display_name": "Python 3 (ipykernel)",
   "language": "python",
   "name": "python3"
  },
  "language_info": {
   "codemirror_mode": {
    "name": "ipython",
    "version": 3
   },
   "file_extension": ".py",
   "mimetype": "text/x-python",
   "name": "python",
   "nbconvert_exporter": "python",
   "pygments_lexer": "ipython3",
   "version": "3.9.6"
  }
 },
 "nbformat": 4,
 "nbformat_minor": 5
}
