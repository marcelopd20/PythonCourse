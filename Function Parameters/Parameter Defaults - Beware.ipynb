{
 "cells": [
  {
   "cell_type": "code",
   "execution_count": 1,
   "id": "7112169e",
   "metadata": {},
   "outputs": [],
   "source": [
    "from datetime import datetime"
   ]
  },
  {
   "cell_type": "code",
   "execution_count": 2,
   "id": "8198946c",
   "metadata": {},
   "outputs": [
    {
     "name": "stdout",
     "output_type": "stream",
     "text": [
      "2022-05-28 11:19:21.883345\n"
     ]
    }
   ],
   "source": [
    "print(datetime.utcnow())"
   ]
  },
  {
   "cell_type": "code",
   "execution_count": 3,
   "id": "095d21c8",
   "metadata": {},
   "outputs": [
    {
     "name": "stdout",
     "output_type": "stream",
     "text": [
      "2022-05-28 11:19:29.713871\n"
     ]
    }
   ],
   "source": [
    "print(datetime.utcnow())"
   ]
  },
  {
   "cell_type": "code",
   "execution_count": 4,
   "id": "7c51f2e6",
   "metadata": {},
   "outputs": [
    {
     "name": "stdout",
     "output_type": "stream",
     "text": [
      "2022-05-28 11:19:31.345755\n"
     ]
    }
   ],
   "source": [
    "print(datetime.utcnow())"
   ]
  },
  {
   "cell_type": "code",
   "execution_count": 5,
   "id": "73f05a0c",
   "metadata": {},
   "outputs": [
    {
     "name": "stdout",
     "output_type": "stream",
     "text": [
      "2022-05-28 11:19:34.026821\n"
     ]
    }
   ],
   "source": [
    "print(datetime.utcnow())"
   ]
  },
  {
   "cell_type": "code",
   "execution_count": 11,
   "id": "971ca292",
   "metadata": {},
   "outputs": [],
   "source": [
    "def log(msg, *, dt=datetime.utcnow()):\n",
    "    print(f'{dt}: {msg}')\n"
   ]
  },
  {
   "cell_type": "code",
   "execution_count": 7,
   "id": "8579a50b",
   "metadata": {},
   "outputs": [
    {
     "name": "stdout",
     "output_type": "stream",
     "text": [
      "2001-01-01 00:00:00.0000: Message 1\n"
     ]
    }
   ],
   "source": [
    "log('Message 1', dt='2001-01-01 00:00:00.0000')"
   ]
  },
  {
   "cell_type": "code",
   "execution_count": 8,
   "id": "c2d71959",
   "metadata": {},
   "outputs": [
    {
     "name": "stdout",
     "output_type": "stream",
     "text": [
      "2022-05-28 11:20:24.786777: message 2\n"
     ]
    }
   ],
   "source": [
    "log('message 2')"
   ]
  },
  {
   "cell_type": "code",
   "execution_count": 9,
   "id": "9bc51122",
   "metadata": {},
   "outputs": [
    {
     "name": "stdout",
     "output_type": "stream",
     "text": [
      "2022-05-28 11:20:24.786777: message 3\n"
     ]
    }
   ],
   "source": [
    "log('message 3')"
   ]
  },
  {
   "cell_type": "code",
   "execution_count": 12,
   "id": "654f0d87",
   "metadata": {},
   "outputs": [
    {
     "name": "stdout",
     "output_type": "stream",
     "text": [
      "2022-05-28 11:22:17.547166: message 4\n"
     ]
    }
   ],
   "source": [
    "log('message 4')"
   ]
  },
  {
   "cell_type": "code",
   "execution_count": 13,
   "id": "c0ea5d67",
   "metadata": {},
   "outputs": [
    {
     "name": "stdout",
     "output_type": "stream",
     "text": [
      "2022-05-28 11:22:17.547166: message 5\n"
     ]
    }
   ],
   "source": [
    "log('message 5')"
   ]
  },
  {
   "cell_type": "code",
   "execution_count": 16,
   "id": "cb12c809",
   "metadata": {},
   "outputs": [],
   "source": [
    "def log(msg, *, dt=None):\n",
    "    if not dt:\n",
    "        dt = datetime.utcnow()\n",
    "    print(f'{dt}: {msg}')\n"
   ]
  },
  {
   "cell_type": "code",
   "execution_count": 17,
   "id": "d84b4831",
   "metadata": {},
   "outputs": [
    {
     "name": "stdout",
     "output_type": "stream",
     "text": [
      "2001-01-01 00:00:00.0000: message 1\n"
     ]
    }
   ],
   "source": [
    "log('message 1',dt='2001-01-01 00:00:00.0000')"
   ]
  },
  {
   "cell_type": "code",
   "execution_count": 18,
   "id": "7da1724b",
   "metadata": {},
   "outputs": [
    {
     "name": "stdout",
     "output_type": "stream",
     "text": [
      "2022-05-28 11:24:27.512570: message 2\n"
     ]
    }
   ],
   "source": [
    "log('message 2')"
   ]
  },
  {
   "cell_type": "code",
   "execution_count": 19,
   "id": "8db50270",
   "metadata": {},
   "outputs": [
    {
     "name": "stdout",
     "output_type": "stream",
     "text": [
      "2022-05-28 11:24:38.282496: message 3\n"
     ]
    }
   ],
   "source": [
    "log('message 3')"
   ]
  },
  {
   "cell_type": "code",
   "execution_count": 20,
   "id": "b4b3092f",
   "metadata": {},
   "outputs": [],
   "source": [
    "def log(msg, *, dt=None):\n",
    "    #if not dt:\n",
    "    #dt = datetime.utcnow()\"\"\"\n",
    "    dt = dt or datetime.utcnow()\n",
    "    print(f'{dt}: {msg}')\n"
   ]
  },
  {
   "cell_type": "code",
   "execution_count": 21,
   "id": "1ba35ec6",
   "metadata": {},
   "outputs": [
    {
     "name": "stdout",
     "output_type": "stream",
     "text": [
      "2001-01-01 00:00:00.0000: message 1\n"
     ]
    }
   ],
   "source": [
    "log('message 1',dt='2001-01-01 00:00:00.0000')"
   ]
  },
  {
   "cell_type": "code",
   "execution_count": 22,
   "id": "b02f88d4",
   "metadata": {},
   "outputs": [
    {
     "name": "stdout",
     "output_type": "stream",
     "text": [
      "2022-05-28 11:25:28.616777: message 2\n"
     ]
    }
   ],
   "source": [
    "log('message 2')"
   ]
  },
  {
   "cell_type": "code",
   "execution_count": 23,
   "id": "efbe87d8",
   "metadata": {},
   "outputs": [
    {
     "name": "stdout",
     "output_type": "stream",
     "text": [
      "2022-05-28 11:25:38.873779: message 3\n"
     ]
    }
   ],
   "source": [
    "log('message 3', dt=None)"
   ]
  },
  {
   "cell_type": "code",
   "execution_count": 24,
   "id": "0dd16efc",
   "metadata": {},
   "outputs": [],
   "source": [
    "my_list = [1, 2, 3]\n",
    "def func(a=my_list):\n",
    "    print(a)"
   ]
  },
  {
   "cell_type": "code",
   "execution_count": 25,
   "id": "5bf74e22",
   "metadata": {},
   "outputs": [
    {
     "name": "stdout",
     "output_type": "stream",
     "text": [
      "[1, 2, 3]\n"
     ]
    }
   ],
   "source": [
    "func()"
   ]
  },
  {
   "cell_type": "code",
   "execution_count": 28,
   "id": "1aa22e44",
   "metadata": {},
   "outputs": [
    {
     "name": "stdout",
     "output_type": "stream",
     "text": [
      "['a', 'b']\n"
     ]
    }
   ],
   "source": [
    "func(['a', 'b'])"
   ]
  },
  {
   "cell_type": "code",
   "execution_count": 29,
   "id": "f106b6ca",
   "metadata": {},
   "outputs": [],
   "source": [
    "my_list.append(4)"
   ]
  },
  {
   "cell_type": "code",
   "execution_count": 30,
   "id": "0fe8bc96",
   "metadata": {},
   "outputs": [
    {
     "name": "stdout",
     "output_type": "stream",
     "text": [
      "[1, 2, 3, 4]\n"
     ]
    }
   ],
   "source": [
    "func()"
   ]
  },
  {
   "cell_type": "code",
   "execution_count": null,
   "id": "f51b6cae",
   "metadata": {},
   "outputs": [],
   "source": []
  },
  {
   "cell_type": "code",
   "execution_count": null,
   "id": "37e915c1",
   "metadata": {},
   "outputs": [],
   "source": []
  },
  {
   "cell_type": "code",
   "execution_count": null,
   "id": "634b3de4",
   "metadata": {},
   "outputs": [],
   "source": []
  },
  {
   "cell_type": "code",
   "execution_count": null,
   "id": "c0bddaa4",
   "metadata": {},
   "outputs": [],
   "source": []
  },
  {
   "cell_type": "code",
   "execution_count": null,
   "id": "0eed464b",
   "metadata": {},
   "outputs": [],
   "source": []
  }
 ],
 "metadata": {
  "kernelspec": {
   "display_name": "Python 3 (ipykernel)",
   "language": "python",
   "name": "python3"
  },
  "language_info": {
   "codemirror_mode": {
    "name": "ipython",
    "version": 3
   },
   "file_extension": ".py",
   "mimetype": "text/x-python",
   "name": "python",
   "nbconvert_exporter": "python",
   "pygments_lexer": "ipython3",
   "version": "3.9.6"
  }
 },
 "nbformat": 4,
 "nbformat_minor": 5
}
