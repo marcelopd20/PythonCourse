{
 "cells": [
  {
   "cell_type": "code",
   "execution_count": 1,
   "id": "6d6aafc2",
   "metadata": {},
   "outputs": [],
   "source": [
    "a = 'hello'\n",
    "b = a"
   ]
  },
  {
   "cell_type": "code",
   "execution_count": 2,
   "id": "6332aca9",
   "metadata": {},
   "outputs": [
    {
     "data": {
      "text/plain": [
       "'0x2b46d2a7ef0'"
      ]
     },
     "execution_count": 2,
     "metadata": {},
     "output_type": "execute_result"
    }
   ],
   "source": [
    "hex(id(a))"
   ]
  },
  {
   "cell_type": "code",
   "execution_count": 3,
   "id": "974120dd",
   "metadata": {},
   "outputs": [
    {
     "data": {
      "text/plain": [
       "'0x2b46d2a7ef0'"
      ]
     },
     "execution_count": 3,
     "metadata": {},
     "output_type": "execute_result"
    }
   ],
   "source": [
    "hex(id(b))"
   ]
  },
  {
   "cell_type": "code",
   "execution_count": 4,
   "id": "d8b4cb08",
   "metadata": {},
   "outputs": [],
   "source": [
    "a = 'hello'"
   ]
  },
  {
   "cell_type": "code",
   "execution_count": 5,
   "id": "143d69d2",
   "metadata": {},
   "outputs": [],
   "source": [
    "b = 'hello'"
   ]
  },
  {
   "cell_type": "code",
   "execution_count": 6,
   "id": "a01f8930",
   "metadata": {},
   "outputs": [
    {
     "data": {
      "text/plain": [
       "'0x2b46d2a7ef0'"
      ]
     },
     "execution_count": 6,
     "metadata": {},
     "output_type": "execute_result"
    }
   ],
   "source": [
    "hex(id(a))"
   ]
  },
  {
   "cell_type": "code",
   "execution_count": 7,
   "id": "995f8b26",
   "metadata": {},
   "outputs": [
    {
     "data": {
      "text/plain": [
       "'0x2b46d2a7ef0'"
      ]
     },
     "execution_count": 7,
     "metadata": {},
     "output_type": "execute_result"
    }
   ],
   "source": [
    "(hex(id(b)))"
   ]
  },
  {
   "cell_type": "code",
   "execution_count": 8,
   "id": "612e3c8c",
   "metadata": {},
   "outputs": [],
   "source": [
    "b = 'hello world'"
   ]
  },
  {
   "cell_type": "code",
   "execution_count": 9,
   "id": "694e05dc",
   "metadata": {},
   "outputs": [
    {
     "data": {
      "text/plain": [
       "'0x2b46d6dd870'"
      ]
     },
     "execution_count": 9,
     "metadata": {},
     "output_type": "execute_result"
    }
   ],
   "source": [
    "hex(id(b))"
   ]
  },
  {
   "cell_type": "code",
   "execution_count": 10,
   "id": "a12abb72",
   "metadata": {},
   "outputs": [
    {
     "data": {
      "text/plain": [
       "'0x2b46d2a7ef0'"
      ]
     },
     "execution_count": 10,
     "metadata": {},
     "output_type": "execute_result"
    }
   ],
   "source": [
    "hex(id(a))"
   ]
  },
  {
   "cell_type": "code",
   "execution_count": 11,
   "id": "710ef481",
   "metadata": {},
   "outputs": [
    {
     "data": {
      "text/plain": [
       "'hello'"
      ]
     },
     "execution_count": 11,
     "metadata": {},
     "output_type": "execute_result"
    }
   ],
   "source": [
    "a"
   ]
  },
  {
   "cell_type": "code",
   "execution_count": 12,
   "id": "29cd4dcb",
   "metadata": {},
   "outputs": [
    {
     "data": {
      "text/plain": [
       "'hello world'"
      ]
     },
     "execution_count": 12,
     "metadata": {},
     "output_type": "execute_result"
    }
   ],
   "source": [
    "b"
   ]
  },
  {
   "cell_type": "code",
   "execution_count": 13,
   "id": "93bed903",
   "metadata": {},
   "outputs": [],
   "source": [
    "a = [1, 2, 3]\n",
    "b = a"
   ]
  },
  {
   "cell_type": "code",
   "execution_count": 15,
   "id": "33c84c12",
   "metadata": {},
   "outputs": [
    {
     "data": {
      "text/plain": [
       "'0x2b46d6e8a40'"
      ]
     },
     "execution_count": 15,
     "metadata": {},
     "output_type": "execute_result"
    }
   ],
   "source": [
    "hex(id(a))"
   ]
  },
  {
   "cell_type": "code",
   "execution_count": 16,
   "id": "1c855e3c",
   "metadata": {},
   "outputs": [
    {
     "data": {
      "text/plain": [
       "'0x2b46d6e8a40'"
      ]
     },
     "execution_count": 16,
     "metadata": {},
     "output_type": "execute_result"
    }
   ],
   "source": [
    "hex(id(b))"
   ]
  },
  {
   "cell_type": "code",
   "execution_count": 17,
   "id": "e8e6eb26",
   "metadata": {},
   "outputs": [],
   "source": [
    "b.append(100)"
   ]
  },
  {
   "cell_type": "code",
   "execution_count": 18,
   "id": "f180b709",
   "metadata": {},
   "outputs": [
    {
     "data": {
      "text/plain": [
       "[1, 2, 3, 100]"
      ]
     },
     "execution_count": 18,
     "metadata": {},
     "output_type": "execute_result"
    }
   ],
   "source": [
    "b"
   ]
  },
  {
   "cell_type": "code",
   "execution_count": 19,
   "id": "a529850d",
   "metadata": {},
   "outputs": [
    {
     "data": {
      "text/plain": [
       "[1, 2, 3, 100]"
      ]
     },
     "execution_count": 19,
     "metadata": {},
     "output_type": "execute_result"
    }
   ],
   "source": [
    "a"
   ]
  },
  {
   "cell_type": "code",
   "execution_count": 20,
   "id": "ba846d00",
   "metadata": {},
   "outputs": [
    {
     "data": {
      "text/plain": [
       "'0x2b46d6e8a40'"
      ]
     },
     "execution_count": 20,
     "metadata": {},
     "output_type": "execute_result"
    }
   ],
   "source": [
    "hex(id(a))"
   ]
  },
  {
   "cell_type": "code",
   "execution_count": 21,
   "id": "ccaf0920",
   "metadata": {},
   "outputs": [
    {
     "data": {
      "text/plain": [
       "'0x2b46d6e8a40'"
      ]
     },
     "execution_count": 21,
     "metadata": {},
     "output_type": "execute_result"
    }
   ],
   "source": [
    "hex(id(a))"
   ]
  },
  {
   "cell_type": "code",
   "execution_count": 22,
   "id": "4daa1d83",
   "metadata": {},
   "outputs": [],
   "source": [
    "a = 10"
   ]
  },
  {
   "cell_type": "code",
   "execution_count": 23,
   "id": "5703a301",
   "metadata": {},
   "outputs": [],
   "source": [
    "b = 10"
   ]
  },
  {
   "cell_type": "code",
   "execution_count": 24,
   "id": "ec106a24",
   "metadata": {},
   "outputs": [
    {
     "data": {
      "text/plain": [
       "'0x2b4688c6a50'"
      ]
     },
     "execution_count": 24,
     "metadata": {},
     "output_type": "execute_result"
    }
   ],
   "source": [
    "hex(id(a))"
   ]
  },
  {
   "cell_type": "code",
   "execution_count": 25,
   "id": "4fc6f25e",
   "metadata": {},
   "outputs": [
    {
     "data": {
      "text/plain": [
       "'0x2b4688c6a50'"
      ]
     },
     "execution_count": 25,
     "metadata": {},
     "output_type": "execute_result"
    }
   ],
   "source": [
    "hex(id(b))"
   ]
  },
  {
   "cell_type": "code",
   "execution_count": 26,
   "id": "6424f6a4",
   "metadata": {},
   "outputs": [],
   "source": [
    "a = 500"
   ]
  },
  {
   "cell_type": "code",
   "execution_count": 27,
   "id": "8d611dd4",
   "metadata": {},
   "outputs": [],
   "source": [
    "b = 500"
   ]
  },
  {
   "cell_type": "code",
   "execution_count": 28,
   "id": "9f49da0f",
   "metadata": {},
   "outputs": [
    {
     "data": {
      "text/plain": [
       "'0x2b46f12a750'"
      ]
     },
     "execution_count": 28,
     "metadata": {},
     "output_type": "execute_result"
    }
   ],
   "source": [
    "hex(id(a))"
   ]
  },
  {
   "cell_type": "code",
   "execution_count": 29,
   "id": "e18fc10f",
   "metadata": {},
   "outputs": [
    {
     "data": {
      "text/plain": [
       "'0x2b46f12a8d0'"
      ]
     },
     "execution_count": 29,
     "metadata": {},
     "output_type": "execute_result"
    }
   ],
   "source": [
    "hex(id(b))"
   ]
  },
  {
   "cell_type": "code",
   "execution_count": 30,
   "id": "7c0b43a4",
   "metadata": {},
   "outputs": [
    {
     "data": {
      "text/plain": [
       "False"
      ]
     },
     "execution_count": 30,
     "metadata": {},
     "output_type": "execute_result"
    }
   ],
   "source": [
    "b is a"
   ]
  },
  {
   "cell_type": "code",
   "execution_count": 31,
   "id": "fa1f0a41",
   "metadata": {},
   "outputs": [
    {
     "data": {
      "text/plain": [
       "True"
      ]
     },
     "execution_count": 31,
     "metadata": {},
     "output_type": "execute_result"
    }
   ],
   "source": [
    "b is not a"
   ]
  },
  {
   "cell_type": "code",
   "execution_count": 32,
   "id": "87f87ecf",
   "metadata": {},
   "outputs": [
    {
     "data": {
      "text/plain": [
       "False"
      ]
     },
     "execution_count": 32,
     "metadata": {},
     "output_type": "execute_result"
    }
   ],
   "source": [
    "not(b is b)"
   ]
  },
  {
   "cell_type": "code",
   "execution_count": 33,
   "id": "88b6bffd",
   "metadata": {},
   "outputs": [
    {
     "data": {
      "text/plain": [
       "True"
      ]
     },
     "execution_count": 33,
     "metadata": {},
     "output_type": "execute_result"
    }
   ],
   "source": [
    "not(b is a)"
   ]
  },
  {
   "cell_type": "code",
   "execution_count": 34,
   "id": "7efa7e1b",
   "metadata": {},
   "outputs": [
    {
     "data": {
      "text/plain": [
       "True"
      ]
     },
     "execution_count": 34,
     "metadata": {},
     "output_type": "execute_result"
    }
   ],
   "source": [
    "a == b"
   ]
  },
  {
   "cell_type": "code",
   "execution_count": 35,
   "id": "b64f8812",
   "metadata": {},
   "outputs": [
    {
     "data": {
      "text/plain": [
       "False"
      ]
     },
     "execution_count": 35,
     "metadata": {},
     "output_type": "execute_result"
    }
   ],
   "source": [
    "a != b"
   ]
  }
 ],
 "metadata": {
  "kernelspec": {
   "display_name": "Python 3 (ipykernel)",
   "language": "python",
   "name": "python3"
  },
  "language_info": {
   "codemirror_mode": {
    "name": "ipython",
    "version": 3
   },
   "file_extension": ".py",
   "mimetype": "text/x-python",
   "name": "python",
   "nbconvert_exporter": "python",
   "pygments_lexer": "ipython3",
   "version": "3.9.6"
  }
 },
 "nbformat": 4,
 "nbformat_minor": 5
}
