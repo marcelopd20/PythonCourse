{
 "cells": [
  {
   "cell_type": "code",
   "execution_count": 1,
   "id": "552dcff2",
   "metadata": {},
   "outputs": [],
   "source": [
    "import ctypes\n",
    "import gc"
   ]
  },
  {
   "cell_type": "code",
   "execution_count": 2,
   "id": "662f8e3c",
   "metadata": {},
   "outputs": [],
   "source": [
    "def ref_count(address):\n",
    "    return ctypes.c_long.from_address(address).value"
   ]
  },
  {
   "cell_type": "code",
   "execution_count": 4,
   "id": "822afd58",
   "metadata": {},
   "outputs": [],
   "source": [
    "def object_by_id(object_id):\n",
    "    for obj in gc.get_objects():\n",
    "        if id(obj) == object_id():\n",
    "            return \"Object exists\"\n",
    "        return \"Not Found\""
   ]
  },
  {
   "cell_type": "code",
   "execution_count": 5,
   "id": "0061ca0a",
   "metadata": {},
   "outputs": [],
   "source": [
    "class A:\n",
    "    def __init__(self):\n",
    "        self.b = B(self)\n",
    "        print(f'A: self: {hex(id(self))}, b: {hex(id(self.b))}')"
   ]
  },
  {
   "cell_type": "code",
   "execution_count": 7,
   "id": "f9e8121c",
   "metadata": {},
   "outputs": [],
   "source": [
    "class B:\n",
    "    def __init__(self, a):\n",
    "        self.a = a\n",
    "        print(f'B: self: {hex(id(self))}, a: {hex(id(self.a))}')"
   ]
  },
  {
   "cell_type": "code",
   "execution_count": 8,
   "id": "be17b2e5",
   "metadata": {},
   "outputs": [],
   "source": [
    "gc.disable()"
   ]
  },
  {
   "cell_type": "code",
   "execution_count": 9,
   "id": "4c358f41",
   "metadata": {},
   "outputs": [
    {
     "name": "stdout",
     "output_type": "stream",
     "text": [
      "B: self: 0x281a6ed48e0, a: 0x281a6ed4b50\n",
      "A: self: 0x281a6ed4b50, b: 0x281a6ed48e0\n"
     ]
    }
   ],
   "source": [
    "my_var = A()"
   ]
  },
  {
   "cell_type": "code",
   "execution_count": 10,
   "id": "afbaeb8b",
   "metadata": {},
   "outputs": [
    {
     "data": {
      "text/plain": [
       "'0x281a6ed4b50'"
      ]
     },
     "execution_count": 10,
     "metadata": {},
     "output_type": "execute_result"
    }
   ],
   "source": [
    "hex(id(my_var))"
   ]
  },
  {
   "cell_type": "code",
   "execution_count": 11,
   "id": "d4082cac",
   "metadata": {},
   "outputs": [
    {
     "data": {
      "text/plain": [
       "'0x281a6ed48e0'"
      ]
     },
     "execution_count": 11,
     "metadata": {},
     "output_type": "execute_result"
    }
   ],
   "source": [
    "hex(id(my_var.b))"
   ]
  },
  {
   "cell_type": "code",
   "execution_count": 12,
   "id": "04084dc3",
   "metadata": {},
   "outputs": [
    {
     "name": "stdout",
     "output_type": "stream",
     "text": [
      "0x281a6ed48e0\n",
      "0x281a6ed4b50\n"
     ]
    }
   ],
   "source": [
    "print(hex(id(my_var.b)))\n",
    "print(hex(id(my_var.b.a)))"
   ]
  },
  {
   "cell_type": "code",
   "execution_count": null,
   "id": "b90fd5d1",
   "metadata": {},
   "outputs": [],
   "source": []
  }
 ],
 "metadata": {
  "kernelspec": {
   "display_name": "Python 3 (ipykernel)",
   "language": "python",
   "name": "python3"
  },
  "language_info": {
   "codemirror_mode": {
    "name": "ipython",
    "version": 3
   },
   "file_extension": ".py",
   "mimetype": "text/x-python",
   "name": "python",
   "nbconvert_exporter": "python",
   "pygments_lexer": "ipython3",
   "version": "3.9.6"
  }
 },
 "nbformat": 4,
 "nbformat_minor": 5
}
