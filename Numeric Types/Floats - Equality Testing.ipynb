{
 "cells": [
  {
   "cell_type": "code",
   "execution_count": 1,
   "id": "317c325c",
   "metadata": {},
   "outputs": [],
   "source": [
    "x = 0.1"
   ]
  },
  {
   "cell_type": "code",
   "execution_count": 2,
   "id": "92445a6f",
   "metadata": {},
   "outputs": [
    {
     "data": {
      "text/plain": [
       "'0.1000000000000000055511151'"
      ]
     },
     "execution_count": 2,
     "metadata": {},
     "output_type": "execute_result"
    }
   ],
   "source": [
    "format(x, '.25f')"
   ]
  },
  {
   "cell_type": "code",
   "execution_count": 3,
   "id": "40314f6a",
   "metadata": {},
   "outputs": [
    {
     "name": "stdout",
     "output_type": "stream",
     "text": [
      "0.1\n"
     ]
    }
   ],
   "source": [
    "print(x)"
   ]
  },
  {
   "cell_type": "code",
   "execution_count": 5,
   "id": "96c3b9cd",
   "metadata": {},
   "outputs": [],
   "source": [
    "x = 0.125"
   ]
  },
  {
   "cell_type": "code",
   "execution_count": 6,
   "id": "f58bcace",
   "metadata": {},
   "outputs": [
    {
     "data": {
      "text/plain": [
       "'0.1250000000000000000000000'"
      ]
     },
     "execution_count": 6,
     "metadata": {},
     "output_type": "execute_result"
    }
   ],
   "source": [
    "format(x, '.25f')"
   ]
  },
  {
   "cell_type": "code",
   "execution_count": 10,
   "id": "6d7fc310",
   "metadata": {},
   "outputs": [],
   "source": [
    "x = 0.125 + 0.125 + 0.125"
   ]
  },
  {
   "cell_type": "code",
   "execution_count": 11,
   "id": "ed56a4dd",
   "metadata": {},
   "outputs": [],
   "source": [
    "y = 0.375"
   ]
  },
  {
   "cell_type": "code",
   "execution_count": 12,
   "id": "941c64ec",
   "metadata": {},
   "outputs": [
    {
     "data": {
      "text/plain": [
       "True"
      ]
     },
     "execution_count": 12,
     "metadata": {},
     "output_type": "execute_result"
    }
   ],
   "source": [
    "x == y"
   ]
  },
  {
   "cell_type": "code",
   "execution_count": 13,
   "id": "8179e911",
   "metadata": {},
   "outputs": [],
   "source": [
    "x = 0.1 + 0.1 + 0.1\n",
    "y = 0.3"
   ]
  },
  {
   "cell_type": "code",
   "execution_count": 14,
   "id": "ad971646",
   "metadata": {},
   "outputs": [
    {
     "data": {
      "text/plain": [
       "False"
      ]
     },
     "execution_count": 14,
     "metadata": {},
     "output_type": "execute_result"
    }
   ],
   "source": [
    "x == y"
   ]
  },
  {
   "cell_type": "code",
   "execution_count": 15,
   "id": "6ba98ee0",
   "metadata": {},
   "outputs": [
    {
     "data": {
      "text/plain": [
       "True"
      ]
     },
     "execution_count": 15,
     "metadata": {},
     "output_type": "execute_result"
    }
   ],
   "source": [
    "round(x, 3) == round(y, 3)"
   ]
  },
  {
   "cell_type": "code",
   "execution_count": 16,
   "id": "5e55ab22",
   "metadata": {},
   "outputs": [
    {
     "data": {
      "text/plain": [
       "'0.3000000000000000444089210'"
      ]
     },
     "execution_count": 16,
     "metadata": {},
     "output_type": "execute_result"
    }
   ],
   "source": [
    "format(x, '.25f')"
   ]
  },
  {
   "cell_type": "code",
   "execution_count": 17,
   "id": "79bace80",
   "metadata": {},
   "outputs": [
    {
     "data": {
      "text/plain": [
       "'0.2999999999999999888977698'"
      ]
     },
     "execution_count": 17,
     "metadata": {},
     "output_type": "execute_result"
    }
   ],
   "source": [
    "format(y, '.25f')"
   ]
  },
  {
   "cell_type": "code",
   "execution_count": 18,
   "id": "c547d209",
   "metadata": {},
   "outputs": [
    {
     "data": {
      "text/plain": [
       "True"
      ]
     },
     "execution_count": 18,
     "metadata": {},
     "output_type": "execute_result"
    }
   ],
   "source": [
    "round(x, 3) == round(y, 3)"
   ]
  },
  {
   "cell_type": "code",
   "execution_count": 25,
   "id": "0460eec7",
   "metadata": {},
   "outputs": [],
   "source": [
    "x = 10000.01"
   ]
  },
  {
   "cell_type": "code",
   "execution_count": 26,
   "id": "c776b377",
   "metadata": {},
   "outputs": [],
   "source": [
    "y = 10000.02"
   ]
  },
  {
   "cell_type": "code",
   "execution_count": 29,
   "id": "9cf607d8",
   "metadata": {},
   "outputs": [
    {
     "data": {
      "text/plain": [
       "0.9999990000019999"
      ]
     },
     "execution_count": 29,
     "metadata": {},
     "output_type": "execute_result"
    }
   ],
   "source": [
    "x / y"
   ]
  },
  {
   "cell_type": "code",
   "execution_count": 30,
   "id": "855242bb",
   "metadata": {},
   "outputs": [],
   "source": [
    "x = 0.01"
   ]
  },
  {
   "cell_type": "code",
   "execution_count": 31,
   "id": "dd9647c8",
   "metadata": {},
   "outputs": [],
   "source": [
    "y = 0.02"
   ]
  },
  {
   "cell_type": "code",
   "execution_count": 32,
   "id": "df55efd3",
   "metadata": {},
   "outputs": [
    {
     "data": {
      "text/plain": [
       "0.5"
      ]
     },
     "execution_count": 32,
     "metadata": {},
     "output_type": "execute_result"
    }
   ],
   "source": [
    "x/y"
   ]
  },
  {
   "cell_type": "code",
   "execution_count": 33,
   "id": "3ebeed15",
   "metadata": {},
   "outputs": [
    {
     "data": {
      "text/plain": [
       "0.0"
      ]
     },
     "execution_count": 33,
     "metadata": {},
     "output_type": "execute_result"
    }
   ],
   "source": [
    "round(x, 1)"
   ]
  },
  {
   "cell_type": "code",
   "execution_count": 34,
   "id": "f05f3e4f",
   "metadata": {},
   "outputs": [
    {
     "data": {
      "text/plain": [
       "True"
      ]
     },
     "execution_count": 34,
     "metadata": {},
     "output_type": "execute_result"
    }
   ],
   "source": [
    "round(x, 1) == round(y, 1)"
   ]
  },
  {
   "cell_type": "code",
   "execution_count": 35,
   "id": "6883bd70",
   "metadata": {},
   "outputs": [],
   "source": [
    "x = 10000.01\n",
    "y = 10000.02"
   ]
  },
  {
   "cell_type": "code",
   "execution_count": 36,
   "id": "09965d3d",
   "metadata": {},
   "outputs": [
    {
     "data": {
      "text/plain": [
       "True"
      ]
     },
     "execution_count": 36,
     "metadata": {},
     "output_type": "execute_result"
    }
   ],
   "source": [
    "round(x, 1) == round(y, 1)"
   ]
  },
  {
   "cell_type": "code",
   "execution_count": 37,
   "id": "cc3d0d64",
   "metadata": {},
   "outputs": [],
   "source": [
    "from math import isclose"
   ]
  },
  {
   "cell_type": "code",
   "execution_count": 39,
   "id": "069e8d91",
   "metadata": {},
   "outputs": [
    {
     "name": "stdout",
     "output_type": "stream",
     "text": [
      "Help on built-in function isclose in module math:\n",
      "\n",
      "isclose(a, b, *, rel_tol=1e-09, abs_tol=0.0)\n",
      "    Determine whether two floating point numbers are close in value.\n",
      "    \n",
      "      rel_tol\n",
      "        maximum difference for being considered \"close\", relative to the\n",
      "        magnitude of the input values\n",
      "      abs_tol\n",
      "        maximum difference for being considered \"close\", regardless of the\n",
      "        magnitude of the input values\n",
      "    \n",
      "    Return True if a is close in value to b, and False otherwise.\n",
      "    \n",
      "    For the values to be considered close, the difference between them\n",
      "    must be smaller than at least one of the tolerances.\n",
      "    \n",
      "    -inf, inf and NaN behave similarly to the IEEE 754 Standard.  That\n",
      "    is, NaN is not close to anything, even itself.  inf and -inf are\n",
      "    only close to themselves.\n",
      "\n"
     ]
    }
   ],
   "source": [
    "help(isclose)"
   ]
  },
  {
   "cell_type": "code",
   "execution_count": 40,
   "id": "9766d719",
   "metadata": {},
   "outputs": [],
   "source": [
    "x = 0.1 + 0.1 + 0.1\n",
    "y = 0.3"
   ]
  },
  {
   "cell_type": "code",
   "execution_count": 41,
   "id": "4a959aa9",
   "metadata": {},
   "outputs": [
    {
     "data": {
      "text/plain": [
       "True"
      ]
     },
     "execution_count": 41,
     "metadata": {},
     "output_type": "execute_result"
    }
   ],
   "source": [
    "isclose(x, y)"
   ]
  },
  {
   "cell_type": "code",
   "execution_count": 42,
   "id": "bd4828f1",
   "metadata": {},
   "outputs": [
    {
     "data": {
      "text/plain": [
       "False"
      ]
     },
     "execution_count": 42,
     "metadata": {},
     "output_type": "execute_result"
    }
   ],
   "source": [
    "x == y"
   ]
  },
  {
   "cell_type": "code",
   "execution_count": 51,
   "id": "cecffcdd",
   "metadata": {},
   "outputs": [
    {
     "data": {
      "text/plain": [
       "True"
      ]
     },
     "execution_count": 51,
     "metadata": {},
     "output_type": "execute_result"
    }
   ],
   "source": [
    "x = 123456789.01\n",
    "y = 123456789.02\n",
    "isclose(x, y, rel_tol=0.01)"
   ]
  },
  {
   "cell_type": "code",
   "execution_count": 52,
   "id": "f4992d6a",
   "metadata": {},
   "outputs": [
    {
     "data": {
      "text/plain": [
       "False"
      ]
     },
     "execution_count": 52,
     "metadata": {},
     "output_type": "execute_result"
    }
   ],
   "source": [
    "x = 0.01\n",
    "y = 0.02\n",
    "isclose(x, y, rel_tol=0.01)"
   ]
  },
  {
   "cell_type": "code",
   "execution_count": 53,
   "id": "0a5081f9",
   "metadata": {},
   "outputs": [
    {
     "data": {
      "text/plain": [
       "False"
      ]
     },
     "execution_count": 53,
     "metadata": {},
     "output_type": "execute_result"
    }
   ],
   "source": [
    "x = 0.0000001\n",
    "y = 0.0000002\n",
    "isclose(x, y, rel_tol=0.01)"
   ]
  },
  {
   "cell_type": "code",
   "execution_count": 55,
   "id": "e2b55c1d",
   "metadata": {},
   "outputs": [
    {
     "data": {
      "text/plain": [
       "True"
      ]
     },
     "execution_count": 55,
     "metadata": {},
     "output_type": "execute_result"
    }
   ],
   "source": [
    "isclose(x, y, rel_tol=0.01, abs_tol=0.01)"
   ]
  },
  {
   "cell_type": "code",
   "execution_count": 56,
   "id": "03a63490",
   "metadata": {},
   "outputs": [
    {
     "name": "stdout",
     "output_type": "stream",
     "text": [
      "True\n",
      "True\n"
     ]
    }
   ],
   "source": [
    "x = 0.0000001\n",
    "y = 0.0000002\n",
    "\n",
    "a = 123456789.01\n",
    "b = 123456789.02\n",
    "\n",
    "print(isclose(x,y, abs_tol=0.0001, rel_tol=0.01))\n",
    "print(isclose(a,b, abs_tol=0.0001, rel_tol=0.01))"
   ]
  },
  {
   "cell_type": "code",
   "execution_count": null,
   "id": "7ad61f4c",
   "metadata": {},
   "outputs": [],
   "source": []
  },
  {
   "cell_type": "code",
   "execution_count": null,
   "id": "ac8c4a99",
   "metadata": {},
   "outputs": [],
   "source": []
  }
 ],
 "metadata": {
  "kernelspec": {
   "display_name": "Python 3 (ipykernel)",
   "language": "python",
   "name": "python3"
  },
  "language_info": {
   "codemirror_mode": {
    "name": "ipython",
    "version": 3
   },
   "file_extension": ".py",
   "mimetype": "text/x-python",
   "name": "python",
   "nbconvert_exporter": "python",
   "pygments_lexer": "ipython3",
   "version": "3.9.6"
  }
 },
 "nbformat": 4,
 "nbformat_minor": 5
}
